{
 "cells": [
  {
   "cell_type": "code",
   "execution_count": 31,
   "id": "237fcdf7-008a-469b-82cb-9bf2b46bdd8e",
   "metadata": {},
   "outputs": [],
   "source": [
    "import pandas as pd\n",
    "import numpy as np\n",
    "import matplotlib.pyplot as plt\n",
    "from sklearn.feature_extraction.text import CountVectorizer, TfidfVectorizer\n",
    "from sklearn.decomposition import LatentDirichletAllocation\n",
    "import pyLDAvis"
   ]
  },
  {
   "cell_type": "code",
   "execution_count": 32,
   "id": "6a571368-7153-47ff-ba14-da781c77b885",
   "metadata": {},
   "outputs": [
    {
     "data": {
      "text/html": [
       "<div>\n",
       "<style scoped>\n",
       "    .dataframe tbody tr th:only-of-type {\n",
       "        vertical-align: middle;\n",
       "    }\n",
       "\n",
       "    .dataframe tbody tr th {\n",
       "        vertical-align: top;\n",
       "    }\n",
       "\n",
       "    .dataframe thead th {\n",
       "        text-align: right;\n",
       "    }\n",
       "</style>\n",
       "<table border=\"1\" class=\"dataframe\">\n",
       "  <thead>\n",
       "    <tr style=\"text-align: right;\">\n",
       "      <th></th>\n",
       "      <th>id</th>\n",
       "      <th>tweet</th>\n",
       "      <th>label</th>\n",
       "    </tr>\n",
       "  </thead>\n",
       "  <tbody>\n",
       "    <tr>\n",
       "      <th>0</th>\n",
       "      <td>637894677824413696</td>\n",
       "      <td>diagnose anxiety depression moment reflect far...</td>\n",
       "      <td>1</td>\n",
       "    </tr>\n",
       "    <tr>\n",
       "      <th>1</th>\n",
       "      <td>637890384576778240</td>\n",
       "      <td>sunday need break planning spend little possib...</td>\n",
       "      <td>1</td>\n",
       "    </tr>\n",
       "    <tr>\n",
       "      <th>2</th>\n",
       "      <td>637749345908051968</td>\n",
       "      <td>awake tire need sleep brain idea</td>\n",
       "      <td>1</td>\n",
       "    </tr>\n",
       "    <tr>\n",
       "      <th>3</th>\n",
       "      <td>637696421077123073</td>\n",
       "      <td>retro bear perfect gift great beginner stitch ...</td>\n",
       "      <td>1</td>\n",
       "    </tr>\n",
       "    <tr>\n",
       "      <th>4</th>\n",
       "      <td>637696327485366272</td>\n",
       "      <td>hard whether pack list life easier reinforce n...</td>\n",
       "      <td>1</td>\n",
       "    </tr>\n",
       "  </tbody>\n",
       "</table>\n",
       "</div>"
      ],
      "text/plain": [
       "                   id                                              tweet  \\\n",
       "0  637894677824413696  diagnose anxiety depression moment reflect far...   \n",
       "1  637890384576778240  sunday need break planning spend little possib...   \n",
       "2  637749345908051968                   awake tire need sleep brain idea   \n",
       "3  637696421077123073  retro bear perfect gift great beginner stitch ...   \n",
       "4  637696327485366272  hard whether pack list life easier reinforce n...   \n",
       "\n",
       "   label  \n",
       "0      1  \n",
       "1      1  \n",
       "2      1  \n",
       "3      1  \n",
       "4      1  "
      ]
     },
     "execution_count": 32,
     "metadata": {},
     "output_type": "execute_result"
    }
   ],
   "source": [
    "# Read depression_cleaned.csv into DataFrame.\n",
    "df = pd.read_csv(\"depression_cleaned.csv\")\n",
    "\n",
    "df.head(5)"
   ]
  },
  {
   "cell_type": "markdown",
   "id": "2e824bd0-deab-4810-ac0b-4194514d887a",
   "metadata": {},
   "source": [
    "### Handle Missing Data"
   ]
  },
  {
   "cell_type": "markdown",
   "id": "490b0145-1c51-4c06-8d30-7b19a7d71b84",
   "metadata": {},
   "source": [
    "##### There was no missing data found in the data cleaning process performed by data_cleaner.py. However, after saving the cleaned data to CSV format, missing values are present."
   ]
  },
  {
   "cell_type": "code",
   "execution_count": 33,
   "id": "5e5232fb-d83a-4e4c-83fc-89d9052dc1ee",
   "metadata": {},
   "outputs": [
    {
     "name": "stdout",
     "output_type": "stream",
     "text": [
      "id         0\n",
      "tweet    409\n",
      "label      0\n",
      "dtype: int64\n"
     ]
    }
   ],
   "source": [
    "print(df.isnull().sum())"
   ]
  },
  {
   "cell_type": "code",
   "execution_count": 34,
   "id": "8a623a82-a137-4ec8-9345-5e4a93847ba1",
   "metadata": {},
   "outputs": [],
   "source": [
    "# Fill missing values with the most frequent value in the column.\n",
    "df['tweet'] = df['tweet'].fillna(df['tweet'].mode()[0])"
   ]
  },
  {
   "cell_type": "code",
   "execution_count": 35,
   "id": "561865e0-00ff-4061-a6bc-065334eca5f7",
   "metadata": {},
   "outputs": [
    {
     "name": "stdout",
     "output_type": "stream",
     "text": [
      "id       0\n",
      "tweet    0\n",
      "label    0\n",
      "dtype: int64\n"
     ]
    }
   ],
   "source": [
    "print(df.isnull().sum())"
   ]
  },
  {
   "cell_type": "markdown",
   "id": "d4edce4c-3c18-46f0-b8c0-e1929cec535a",
   "metadata": {},
   "source": [
    "## Basic Dataset Statistics"
   ]
  },
  {
   "cell_type": "code",
   "execution_count": 36,
   "id": "731b1d22-d407-441e-baa8-297e85df336e",
   "metadata": {},
   "outputs": [
    {
     "name": "stdout",
     "output_type": "stream",
     "text": [
      "Dataset shape: (19881, 3)\n"
     ]
    }
   ],
   "source": [
    "print(f\"Dataset shape: {df.shape}\")"
   ]
  },
  {
   "cell_type": "code",
   "execution_count": 37,
   "id": "12d364c5-7a4b-4fb4-92f9-05ef88e5aa88",
   "metadata": {},
   "outputs": [
    {
     "name": "stdout",
     "output_type": "stream",
     "text": [
      "label\n",
      "1    9942\n",
      "0    9939\n",
      "Name: count, dtype: int64\n"
     ]
    }
   ],
   "source": [
    "print(df['label'].value_counts())"
   ]
  },
  {
   "cell_type": "markdown",
   "id": "4dc66f88-76e8-449d-9be1-4b6397731813",
   "metadata": {},
   "source": [
    "## Basic Tweet Statistics"
   ]
  },
  {
   "cell_type": "code",
   "execution_count": 38,
   "id": "b31bc391-437e-4bf2-9f94-3080cde7a043",
   "metadata": {},
   "outputs": [
    {
     "name": "stdout",
     "output_type": "stream",
     "text": [
      "Average word count: 4.922840903375082\n"
     ]
    }
   ],
   "source": [
    "# Get the average number of words in the tweets by splitting on whitespace.\n",
    "df['word_count'] = df['tweet'].apply(lambda x: len(x.split()))\n",
    "\n",
    "print(f\"Average word count: {df['word_count'].mean()}\")"
   ]
  },
  {
   "cell_type": "code",
   "execution_count": 39,
   "id": "470e440e-5cb1-43cd-828d-a111940cf0be",
   "metadata": {},
   "outputs": [
    {
     "name": "stdout",
     "output_type": "stream",
     "text": [
      "Average tweet length: 33.3669835521352\n"
     ]
    }
   ],
   "source": [
    "# Get the average number of characters in the tweets.\n",
    "df['tweet_length'] = df['tweet'].apply(len)\n",
    "\n",
    "print(f\"Average tweet length: {df['tweet_length'].mean()}\")"
   ]
  },
  {
   "cell_type": "markdown",
   "id": "897f824e-e1f3-45ea-b658-fac7e8b84fa8",
   "metadata": {},
   "source": [
    "# Feature Extraction"
   ]
  },
  {
   "cell_type": "markdown",
   "id": "13788741-0166-43b9-ab55-43c0b708670c",
   "metadata": {},
   "source": [
    "## Convert Text Data into Numerical Features"
   ]
  },
  {
   "cell_type": "markdown",
   "id": "4d328b1a-7a17-4833-8ae3-c63144105d24",
   "metadata": {},
   "source": [
    "### CountVectorizer"
   ]
  },
  {
   "cell_type": "markdown",
   "id": "84983683-5810-4380-a1b7-1b209076461f",
   "metadata": {},
   "source": [
    "##### CountVectorizer is a feature extraction method that converts the tweets into a matrix of token counts. This numerical representation is necessary for LDA, which can't directly process raw text. LDA specifically works well with CountVectorizer because it's designed to model word counts rather than normalised values."
   ]
  },
  {
   "cell_type": "markdown",
   "id": "4e160fdd-1f5d-4325-8dfb-88db50f43e56",
   "metadata": {},
   "source": [
    "##### Words appearing in 95% or more of the tweets will be ignored, filtering out common words.\n",
    "##### Words appearning in fewer than 2 tweets will be ignored, filtering out rare words.\n",
    "##### The vocabulary size is limited to the top 5,000 most frequently occurring words."
   ]
  },
  {
   "cell_type": "code",
   "execution_count": 40,
   "id": "a35e5ce9-a903-4f4c-b65f-48f7488716d2",
   "metadata": {},
   "outputs": [],
   "source": [
    "# Use CountVectorizer for LDA.\n",
    "count_vectoriser = CountVectorizer(max_df=0.95, min_df=2, max_features=5000)"
   ]
  },
  {
   "cell_type": "markdown",
   "id": "19b57b3c-9926-48b4-8976-2d993ae26e76",
   "metadata": {},
   "source": [
    "##### The 'tweet' column is  transformed into a sparse matrix of word counts. The vocabulary is learnt from the text and the text is transformed into a word frequency matrix."
   ]
  },
  {
   "cell_type": "code",
   "execution_count": 41,
   "id": "0f462b73-42af-4838-81b2-b41d1a14ae49",
   "metadata": {},
   "outputs": [
    {
     "name": "stdout",
     "output_type": "stream",
     "text": [
      "CountVectorizer shape: (19881, 5000)\n"
     ]
    }
   ],
   "source": [
    "# Apply CountVectorizer to the 'tweet' column.\n",
    "count_data = count_vectoriser.fit_transform(df['tweet'])\n",
    "\n",
    "print(f\"CountVectorizer shape: {count_data.shape}\")"
   ]
  },
  {
   "cell_type": "markdown",
   "id": "17f25b8e-f212-42b5-b057-bba4d670a24d",
   "metadata": {},
   "source": [
    "##### There are 5,000 unique tokens in the vocabulary."
   ]
  },
  {
   "cell_type": "markdown",
   "id": "60186436-261f-4c5b-9777-6e8f8956532a",
   "metadata": {},
   "source": [
    "# Topic Modelling"
   ]
  },
  {
   "cell_type": "markdown",
   "id": "9256c658-3012-4f2d-88b7-0917e5c31618",
   "metadata": {},
   "source": [
    "### LDA (Latent Dirichlet Allocation)"
   ]
  },
  {
   "cell_type": "markdown",
   "id": "a8134c7c-005e-4050-aa18-5a978faae318",
   "metadata": {},
   "source": [
    "##### LDA (Latent Dirichlet Allocation) the topic modelling technique used. It identifies patterns of co-occuring words in the tweets and groups them into coherent topics. "
   ]
  },
  {
   "cell_type": "code",
   "execution_count": 42,
   "id": "424e0adb-18a5-4fb8-9c16-a7d840ed026b",
   "metadata": {},
   "outputs": [
    {
     "name": "stdout",
     "output_type": "stream",
     "text": [
      "Topic 1:\n",
      "good never god best always friend video yall feel everyone\n",
      "Topic 2:\n",
      "people think trump business child game show wrong care lose\n",
      "Topic 3:\n",
      "shit girl migraine headache hell woman stress ill cause worth\n",
      "Topic 4:\n",
      "need feel sleep person doe man home mean team start\n",
      "Topic 5:\n",
      "depression treatment overcome help work post nanny therapy daily play\n",
      "Topic 6:\n",
      "trump fuck putin positive hard president think believe second tonight\n",
      "Topic 7:\n",
      "love guy people america use want problem put world eat\n",
      "Topic 8:\n",
      "want life health ask mental sorry hate next ive top\n",
      "Topic 9:\n",
      "someone miss die night live hour bad cut addiction away\n",
      "Topic 10:\n",
      "happy great change hope christmas birthday family everything beautiful 2017\n"
     ]
    }
   ],
   "source": [
    "# Create and fit the LDA model.\n",
    "n_topics = 10\n",
    "\n",
    "lda = LatentDirichletAllocation(\n",
    "    n_components=n_topics,\n",
    "    random_state=42,\n",
    "    learning_method='batch',\n",
    "    max_iter=25,\n",
    "    learning_offset=50.\n",
    ")\n",
    "\n",
    "lda.fit(count_data)\n",
    "\n",
    "# Get topics for each tweet.\n",
    "lda_output = lda.transform(count_data)\n",
    "\n",
    "# Print the keywords for each topic.\n",
    "feature_names = count_vectoriser.get_feature_names_out()\n",
    "\n",
    "for topic_idx, topic in enumerate(lda.components_):\n",
    "    print(f\"Topic {topic_idx + 1}:\")\n",
    "    # Print the top 10 keywords for each topic.\n",
    "    print(\" \".join([feature_names[i] for i in topic.argsort()[:-11:-1]]))"
   ]
  },
  {
   "cell_type": "markdown",
   "id": "48c1a7b5-a8ad-4bb9-98ed-d0f4b4f0db19",
   "metadata": {},
   "source": [
    "## Compare Topics Between Depressed and Non-Depressed Groups"
   ]
  },
  {
   "cell_type": "code",
   "execution_count": 43,
   "id": "e8c185f7-7146-43bc-9d28-878477b06e52",
   "metadata": {},
   "outputs": [
    {
     "data": {
      "text/plain": [
       "<Figure size 1200x800 with 0 Axes>"
      ]
     },
     "metadata": {},
     "output_type": "display_data"
    },
    {
     "data": {
      "image/png": "[encoded data removed]",
      "text/plain": [
       "<Figure size 640x480 with 1 Axes>"
      ]
     },
     "metadata": {},
     "output_type": "display_data"
    }
   ],
   "source": [
    "# Slice the LDA output based on the labels.\n",
    "depressed_tweets = lda_output[df['label'] == 1]\n",
    "non_depressed_tweets = lda_output[df['label'] == 0]\n",
    "\n",
    "# Get average topic distribution for each group.\n",
    "depressed_topic_dist = depressed_tweets.mean(axis=0)\n",
    "non_depressed_topic_dist = non_depressed_tweets.mean(axis=0)\n",
    "\n",
    "# Create a DataFrame for plotting.\n",
    "topic_comparison = pd.DataFrame({\n",
    "    'Depressed': depressed_topic_dist,\n",
    "    'Non-Depressed': non_depressed_topic_dist\n",
    "})\n",
    "\n",
    "# Plot the comparison.\n",
    "plt.figure(figsize=(12, 8))\n",
    "topic_comparison.plot(kind='bar')\n",
    "plt.title('Topic Distribution: Depressed vs. Non-depressed')\n",
    "plt.xlabel('Topic ID')\n",
    "plt.ylabel('Average Topic Weight')\n",
    "plt.xticks(range(n_topics), [f'Topic {i+1}' for i in range(n_topics)], rotation=45)\n",
    "plt.tight_layout()\n",
    "plt.show()"
   ]
  }
 ],
 "metadata": {
  "kernelspec": {
   "display_name": "Python 3 (ipykernel)",
   "language": "python",
   "name": "python3"
  },
  "language_info": {
   "codemirror_mode": {
    "name": "ipython",
    "version": 3
   },
   "file_extension": ".py",
   "mimetype": "text/x-python",
   "name": "python",
   "nbconvert_exporter": "python",
   "pygments_lexer": "ipython3",
   "version": "3.12.9"
  }
 },
 "nbformat": 4,
 "nbformat_minor": 5
}
